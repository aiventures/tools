{
 "cells": [
  {
   "cell_type": "markdown",
   "metadata": {},
   "source": [
    "# Regex Samples"
   ]
  },
  {
   "cell_type": "markdown",
   "metadata": {},
   "source": [
    "My personal regex collection\n",
    "Links\n",
    "* https://docs.python.org/3/library/re.html (Py lib)\n",
    "* https://regex101.com/ (online validator)\n",
    "* https://www.rexegg.com/ (contains nice tut and overview)\n",
    "* https://github.com/search?q=user%3Aaiventures+regex&type=code (my own usage of regex in code)"
   ]
  },
  {
   "cell_type": "code",
   "execution_count": 1,
   "metadata": {},
   "outputs": [],
   "source": [
    "from importlib import reload\n",
    "import re\n",
    "import image_meta.persistence\n",
    "reload(image_meta.persistence)\n",
    "import tools\n",
    "reload(tools)\n",
    "import tools.video_rename as vn\n",
    "reload(vn)\n",
    "pass"
   ]
  },
  {
   "cell_type": "code",
   "execution_count": 3,
   "metadata": {},
   "outputs": [
    {
     "name": "stdout",
     "output_type": "stream",
     "text": [
      "[('abcde', '1234')]\n"
     ]
    }
   ],
   "source": [
    "# matches character followed by empties or whitespaces continued with numbers\n",
    "s = \"abcde 1234\"\n",
    "regex=\"([a-zA-Z]+)\\s*([\\d]+)\"\n",
    "search_result = re.findall(regex,s)\n",
    "print(search_result)"
   ]
  },
  {
   "cell_type": "code",
   "execution_count": 15,
   "metadata": {},
   "outputs": [
    {
     "name": "stdout",
     "output_type": "stream",
     "text": [
      "Original String: test text ignore string xxx\n",
      "\n",
      "find regex: (xxx)\n",
      "Replace String: <replace_string> (original:\\1)\n",
      "\n",
      "Final String:  test text ignore string <replace_string> (original:xxx)\n"
     ]
    }
   ],
   "source": [
    "# File match / replace match by match groups\n",
    "# https://stackoverflow.com/questions/14007545/python-regex-instantly-replace-groups\n",
    "s = r\"test text ignore string xxx\"\n",
    "regex = r\"(xxx)\"\n",
    "s_repl = r\"<replace_string> (original:\\1)\"\n",
    "print(f\"Original String: {s}\\n\\nfind regex: {regex}\\nReplace String: {s_repl}\\n\")\n",
    "result = re.sub(regex,s_repl, s) #captures regex inserts group 2\n",
    "print(\"Final String: \",result)"
   ]
  },
  {
   "cell_type": "code",
   "execution_count": null,
   "metadata": {},
   "outputs": [],
   "source": [
    "# from my little tools repo a small utility to rename video series files\n",
    "# (matches certaain number patterns)\n",
    "# https://github.com/aiventures/tools/blob/master/video_rename.py\n",
    "\n",
    "test_s = [\"Video Text 11 (23)\",\"Video Title ddd ddd2(33_44)\",\n",
    "          \"Video Title Series 55 (66_77) -\",\"Video (88) \", \n",
    "          \"Video (99_10) \",\"Video Series 11 (12)\",\"Video 11 23\",\n",
    "          \"Video 33\",\"XXXX\",\"Video Title Series 55 (S66_77) -\",\n",
    "          \"Video, Saison 1 (3-10)_2019_09_13_01_02\"]\n",
    "\n",
    "debug = False\n",
    "\n",
    "for s in test_s:    \n",
    "    p = vn.get_video_prefix(s,debug=debug)\n",
    "    print(\"-------------\")\n",
    "    print(f\"OLD '{s}' prefix {p} \\nNEW '{p+s}'\")"
   ]
  },
  {
   "cell_type": "code",
   "execution_count": 3,
   "metadata": {},
   "outputs": [
    {
     "data": {
      "text/plain": [
       "'20200820'"
      ]
     },
     "execution_count": 3,
     "metadata": {},
     "output_type": "execute_result"
    }
   ],
   "source": [
    "# searching for date time patterns\n",
    "s = r\"2020:08:20 14:48:23\"\n",
    "#search for YYYY MM DD HH MM SS\n",
    "regex = r\"(\\d+)\\:(\\d+):(\\d+).*?(\\d+)\\:(\\d+):(\\d+)\"\n",
    "regex_search = re.findall(regex,s)\n",
    "# Only extract Date part\n",
    "yyyymmdd = ''.join(regex_search[0][:3])\n",
    "yyyymmdd"
   ]
  },
  {
   "cell_type": "code",
   "execution_count": 11,
   "metadata": {},
   "outputs": [
    {
     "name": "stdout",
     "output_type": "stream",
     "text": [
      "_S_Filename_03099abc.jpg [('', '_S_Filename_', '03099')]\n",
      "123_S_Filename_03099abc.jpg [('123', '_S_Filename_', '03099')]\n"
     ]
    }
   ],
   "source": [
    "# searching for pattern: \"<numbers> <nonnumbers> <numbers>\"\n",
    "s = \"_S_Filename_03099abc.jpg\"\n",
    "s2 = \"123_S_Filename_03099abc.jpg\"\n",
    "regex = r\"^(\\d+)?(\\D+?)(\\d+)\"  #can  start with numbers and there s more numbers\n",
    "regex_search = re.findall(regex,s)\n",
    "regex_search2 = re.findall(regex,s2)\n",
    "print(s,regex_search)\n",
    "print(s2,regex_search2)"
   ]
  },
  {
   "cell_type": "code",
   "execution_count": 15,
   "metadata": {},
   "outputs": [
    {
     "name": "stdout",
     "output_type": "stream",
     "text": [
      "[('xyz', '1234567')]\n"
     ]
    }
   ],
   "source": [
    "# nondigits digits\n",
    "s = \"xyz1234567.jpg\" # any 3 letters and 5 numbers\n",
    "regex = r\"^(\\D+)+(\\d+)\" #any name starting with letters and continued by numbers with match groups\n",
    "regex_search = re.findall(regex,s)\n",
    "print(regex_search)"
   ]
  },
  {
   "cell_type": "code",
   "execution_count": 16,
   "metadata": {},
   "outputs": [
    {
     "name": "stdout",
     "output_type": "stream",
     "text": [
      "['jpg']\n"
     ]
    }
   ],
   "source": [
    "# OR search pattern\n",
    "s = \"xyz1234567.jpg\" # any 3 letters and 5 numbers\n",
    "regex = r\"jpg|tif$\" #string ending with jpg or tif\n",
    "regex_search = re.findall(regex,s)\n",
    "print(regex_search)"
   ]
  },
  {
   "cell_type": "code",
   "execution_count": 16,
   "metadata": {},
   "outputs": [
    {
     "name": "stdout",
     "output_type": "stream",
     "text": [
      "['jpg']\n"
     ]
    }
   ],
   "source": [
    "# Using regex flags\n",
    "# https://stackoverflow.com/questions/30651271/using-more-than-one-flag-in-python-re-findall\n",
    "s = \"xyz1234567.jPg\" # any 3 letters and 5 numbers\n",
    "regex = r\"jpg|tif$\" #string ending with jpg or tif\n",
    "regex_search = re.findall(regex,s)\n",
    "print(regex_search)"
   ]
  },
  {
   "cell_type": "code",
   "execution_count": 2,
   "metadata": {},
   "outputs": [
    {
     "name": "stdout",
     "output_type": "stream",
     "text": [
      "['3', '2', '6']\n"
     ]
    },
    {
     "data": {
      "text/plain": [
       "'S03_E02_06 '"
      ]
     },
     "execution_count": 2,
     "metadata": {},
     "output_type": "execute_result"
    }
   ],
   "source": [
    "# tv series extract series and episodes, add leading zeros\n",
    "s = r\"Video Title Series 3 (2_6) -\"\n",
    "regex = \"([\\d])\\s*\\(([\\d]+)_([\\d]+)\"\n",
    "try:\n",
    "    search_result = list(re.findall(regex,s)[0])\n",
    "    print(search_result)\n",
    "    # format with leading zeroes\n",
    "    series,episode,num_episodes = map(lambda x:\"{:02d}\".format(int(x)),search_result)\n",
    "    prefix = \"\".join([\"S\",series,\"_E\",episode,\"_\",num_episodes,\" \"])\n",
    "except:\n",
    "    print(f\"no regex pattern {regex} \\n for string '{s}'\")\n",
    "    search_result = None\n",
    "prefix"
   ]
  }
 ],
 "metadata": {
  "kernelspec": {
   "display_name": "Python 3",
   "language": "python",
   "name": "python3"
  },
  "language_info": {
   "codemirror_mode": {
    "name": "ipython",
    "version": 3
   },
   "file_extension": ".py",
   "mimetype": "text/x-python",
   "name": "python",
   "nbconvert_exporter": "python",
   "pygments_lexer": "ipython3",
   "version": "3.6.6"
  }
 },
 "nbformat": 4,
 "nbformat_minor": 4
}
